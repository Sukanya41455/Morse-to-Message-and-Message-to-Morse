{
 "cells": [
  {
   "cell_type": "code",
   "execution_count": 25,
   "metadata": {},
   "outputs": [],
   "source": [
    "MORSE_CODE_OF_LETTERS = { 'A':'.-', 'B':'-...', \n",
    "                    'C':'-.-.', 'D':'-..', 'E':'.', \n",
    "                    'F':'..-.', 'G':'--.', 'H':'....', \n",
    "                    'I':'..', 'J':'.---', 'K':'-.-', \n",
    "                    'L':'.-..', 'M':'--', 'N':'-.', \n",
    "                    'O':'---', 'P':'.--.', 'Q':'--.-', \n",
    "                    'R':'.-.', 'S':'...', 'T':'-', \n",
    "                    'U':'..-', 'V':'...-', 'W':'.--', \n",
    "                    'X':'-..-', 'Y':'-.--', 'Z':'--..', \n",
    "                    '1':'.----', '2':'..---', '3':'...--', \n",
    "                    '4':'....-', '5':'.....', '6':'-....', \n",
    "                    '7':'--...', '8':'---..', '9':'----.', \n",
    "                    '0':'-----', ', ':'--..--', '.':'.-.-.-', \n",
    "                    '?':'..--..', '/':'-..-.', '-':'-....-', \n",
    "                    '(':'-.--.', ')':'-.--.-'} "
   ]
  },
  {
   "cell_type": "code",
   "execution_count": 45,
   "metadata": {},
   "outputs": [],
   "source": [
    "def encrypt(string):\n",
    "    eng_to_morse = ''\n",
    "    for letter in string:\n",
    "        if letter != ' ':\n",
    "            eng_to_morse += MORSE_CODE_OF_LETTERS[letter] + ' '\n",
    "        else:\n",
    "            eng_to_morse +=' '\n",
    "    return eng_to_morse\n",
    "\n",
    "def decrypt(string): \n",
    "    string += ' '  \n",
    "    morse_to_eng = '' \n",
    "    morse_letter = '' \n",
    "    for letter in string: \n",
    "        if (letter != ' '): \n",
    "            i = 0\n",
    "            morse_letter += letter \n",
    "        else: \n",
    "            i += 1\n",
    "            if i == 2 : \n",
    "                morse_to_eng += ' '\n",
    "            else: \n",
    "                morse_to_eng += list(MORSE_CODE_OF_LETTERS.keys())[list(MORSE_CODE_OF_LETTERS .values()).index(morse_letter)] \n",
    "                morse_letter = ''   \n",
    "    return morse_to_eng      "
   ]
  },
  {
   "cell_type": "code",
   "execution_count": 46,
   "metadata": {},
   "outputs": [],
   "source": [
    "def main():\n",
    "    string = 'You-have-a-message.'\n",
    "    result= encrypt(string.upper())\n",
    "    print('MORSE is ',result)\n",
    "    \n",
    "    string = \"-.-- --- ..- -....- .... .- ...- . -....- .- -....- -- . ... ... .- --. . .-.-.- \"\n",
    "    result= decrypt(string)\n",
    "    print(result)\n",
    "    "
   ]
  },
  {
   "cell_type": "code",
   "execution_count": 47,
   "metadata": {},
   "outputs": [
    {
     "name": "stdout",
     "output_type": "stream",
     "text": [
      "MORSE is  -.-- --- ..- -....- .... .- ...- . -....- .- -....- -- . ... ... .- --. . .-.-.- \n",
      "YOU-HAVE-A-MESSAGE. \n"
     ]
    }
   ],
   "source": [
    "if __name__ == '__main__':\n",
    "    main()"
   ]
  },
  {
   "cell_type": "code",
   "execution_count": null,
   "metadata": {},
   "outputs": [],
   "source": []
  }
 ],
 "metadata": {
  "kernelspec": {
   "display_name": "Python 3",
   "language": "python",
   "name": "python3"
  },
  "language_info": {
   "codemirror_mode": {
    "name": "ipython",
    "version": 3
   },
   "file_extension": ".py",
   "mimetype": "text/x-python",
   "name": "python",
   "nbconvert_exporter": "python",
   "pygments_lexer": "ipython3",
   "version": "3.7.1"
  }
 },
 "nbformat": 4,
 "nbformat_minor": 2
}
